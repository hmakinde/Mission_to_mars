{
 "cells": [
  {
   "cell_type": "code",
   "execution_count": 1,
   "metadata": {},
   "outputs": [],
   "source": [
    "# Dependencies\n",
    "import pandas as pd\n",
    "import re\n",
    "import requests\n",
    "import pymongo\n",
    "from splinter import Browser\n",
    "from bs4 import BeautifulSoup"
   ]
  },
  {
   "cell_type": "code",
   "execution_count": 4,
   "metadata": {},
   "outputs": [],
   "source": [
    "executable_path = {'executable_path': '/Users/hmm794/Downloads/chromedriver'}\n",
    "browser = Browser('chrome', **executable_path, headless=False)"
   ]
  },
  {
   "cell_type": "code",
   "execution_count": 5,
   "metadata": {},
   "outputs": [],
   "source": [
    "# NASA MARS NEWS\n",
    "# Scrape the NASA Mars News Site and collect the latest News Title and Paragragh Text\n",
    "# Assign the text to variables that you can reference later\n",
    "url = 'https://mars.nasa.gov/news/'\n",
    "browser.visit(url)"
   ]
  },
  {
   "cell_type": "code",
   "execution_count": 6,
   "metadata": {},
   "outputs": [],
   "source": [
    "news_html = browser.html\n",
    "nsoup = bs(news_html,'lxml')"
   ]
  },
  {
   "cell_type": "code",
   "execution_count": 26,
   "metadata": {},
   "outputs": [
    {
     "name": "stdout",
     "output_type": "stream",
     "text": [
      "The news title is:  NASA's Mars 2020 Comes Full Circle\n",
      "------\n",
      "The news paragraph is:  Aiming to pinpoint the Martian vehicle's center of gravity, engineers took NASA's 2,300-pound Mars 2020 rover for a spin in the clean room at JPL. \n"
     ]
    }
   ],
   "source": [
    "news_title = nsoup.find('div', class_='content_title').text\n",
    "news_p = nsoup.find('div', class_='article_teaser_body').text\n",
    "print('The news title is: ', news_title)\n",
    "print('------')\n",
    "print('The news paragraph is: ', news_p )"
   ]
  },
  {
   "cell_type": "code",
   "execution_count": 27,
   "metadata": {},
   "outputs": [],
   "source": [
    "## JPL Mars Space Imgades - Featured Image\n",
    "jpl_url = \"https://www.jpl.nasa.gov/spaceimages/?search=&category=Mars\"\n",
    "browser.visit(jpl_url)"
   ]
  },
  {
   "cell_type": "code",
   "execution_count": 28,
   "metadata": {},
   "outputs": [],
   "source": [
    "jpl_html = browser.html\n",
    "jsoup = bs(jpl_html,'lxml')"
   ]
  },
  {
   "cell_type": "code",
   "execution_count": 31,
   "metadata": {},
   "outputs": [
    {
     "name": "stdout",
     "output_type": "stream",
     "text": [
      "The reatured image url is:  //www.jpl.nasa.gov/spaceimages/images/mediumsize/PIA00063_ip.jpg\n"
     ]
    }
   ],
   "source": [
    "img_link = jsoup.find('div',class_='carousel_container').article.footer.a['data-fancybox-href']\n",
    "base_link = jsoup.find('div', class_='jpl_logo').a['href'].rstrip('/')\n",
    "featured_image_url = base_link + img_link\n",
    "featured_image_title = jsoup.find('h1', class_=\"media_feature_title\").text.strip()\n",
    "print('The reatured image url is: ', featured_image_url )\n"
   ]
  },
  {
   "cell_type": "code",
   "execution_count": 42,
   "metadata": {},
   "outputs": [],
   "source": [
    "## Mars Weather\n",
    "twitter_url = \"https://twitter.com/marswxreport?lang=en\"\n",
    "browser.visit(twitter_url)"
   ]
  },
  {
   "cell_type": "code",
   "execution_count": 47,
   "metadata": {},
   "outputs": [],
   "source": [
    "# Parse html file with BeautifulSoup\n",
    "twitter_html = browser.html\n",
    "twitter_soup = bs(twitter_html,'html.parser')"
   ]
  },
  {
   "cell_type": "code",
   "execution_count": 48,
   "metadata": {},
   "outputs": [
    {
     "data": {
      "text/plain": [
       "[<p class=\"TweetTextSize TweetTextSize--normal js-tweet-text tweet-text\" data-aria-label-part=\"0\" lang=\"en\">InSight sol 285 (2019-09-15) low -100.8ºC (-149.5ºF) high -27.1ºC (-16.8ºF)\n",
       " winds from the SE at 5.4 m/s (12.2 mph) gusting to 21.3 m/s (47.6 mph)\n",
       " pressure at 7.40 hPa<a class=\"twitter-timeline-link u-hidden\" data-pre-embedded=\"true\" dir=\"ltr\" href=\"https://t.co/HtCsngFytC\">pic.twitter.com/HtCsngFytC</a></p>,\n",
       " <p class=\"TweetTextSize TweetTextSize--normal js-tweet-text tweet-text\" data-aria-label-part=\"0\" lang=\"und\">Weeeeee!  <a class=\"twitter-timeline-link\" data-expanded-url=\"https://www.jpl.nasa.gov/spaceimages/details.php?id=PIA23461\" dir=\"ltr\" href=\"https://t.co/terPoTqKM6\" rel=\"nofollow noopener\" target=\"_blank\" title=\"https://www.jpl.nasa.gov/spaceimages/details.php?id=PIA23461\"><span class=\"tco-ellipsis\"></span><span class=\"invisible\">https://www.</span><span class=\"js-display-url\">jpl.nasa.gov/spaceimages/de</span><span class=\"invisible\">tails.php?id=PIA23461</span><span class=\"tco-ellipsis\"><span class=\"invisible\"> </span>…</span></a><a class=\"twitter-timeline-link u-hidden\" data-pre-embedded=\"true\" dir=\"ltr\" href=\"https://t.co/iuEqJjsQ4G\">pic.twitter.com/iuEqJjsQ4G</a></p>,\n",
       " <p class=\"TweetTextSize TweetTextSize--normal js-tweet-text tweet-text\" data-aria-label-part=\"0\" lang=\"en\">Are you there <a class=\"twitter-atreply pretty-link js-nav\" data-mentioned-user-id=\"407387443\" dir=\"ltr\" href=\"/NASAInSight\"><s>@</s><b>NASAInSight</b></a>? It’s me     <a class=\"twitter-atreply pretty-link js-nav\" data-mentioned-user-id=\"62740714\" dir=\"ltr\" href=\"/CanberraDSN\"><s>@</s><b>CanberraDSN</b></a><a class=\"twitter-timeline-link u-hidden\" data-pre-embedded=\"true\" dir=\"ltr\" href=\"https://t.co/o5UjO2hRwn\">pic.twitter.com/o5UjO2hRwn</a></p>,\n",
       " <p class=\"TweetTextSize TweetTextSize--normal js-tweet-text tweet-text\" data-aria-label-part=\"0\" lang=\"en\">Want to help. <a class=\"twitter-atreply pretty-link js-nav\" data-mentioned-user-id=\"11348282\" dir=\"ltr\" href=\"/NASA\"><s>@</s><b>NASA</b></a> and the <a class=\"twitter-atreply pretty-link js-nav\" data-mentioned-user-id=\"101802390\" dir=\"ltr\" href=\"/USNatArchives\"><s>@</s><b>USNatArchives</b></a>? Help catalogue NASA archive video <a class=\"twitter-timeline-link\" data-expanded-url=\"https://www.archives.gov/citizen-archivist/registerandgetstarted\" dir=\"ltr\" href=\"https://t.co/4rOsHX9xue\" rel=\"nofollow noopener\" target=\"_blank\" title=\"https://www.archives.gov/citizen-archivist/registerandgetstarted\"><span class=\"tco-ellipsis\"></span><span class=\"invisible\">https://www.</span><span class=\"js-display-url\">archives.gov/citizen-archiv</span><span class=\"invisible\">ist/registerandgetstarted</span><span class=\"tco-ellipsis\"><span class=\"invisible\"> </span>…</span></a><a class=\"twitter-timeline-link u-hidden\" data-pre-embedded=\"true\" dir=\"ltr\" href=\"https://t.co/1FrDcxMYzu\">pic.twitter.com/1FrDcxMYzu</a></p>,\n",
       " <p class=\"TweetTextSize TweetTextSize--normal js-tweet-text tweet-text\" data-aria-label-part=\"0\" lang=\"en\">We won’t be hearing from <a class=\"twitter-atreply pretty-link js-nav\" data-mentioned-user-id=\"15473958\" dir=\"ltr\" href=\"/MarsCuriosity\"><s>@</s><b>MarsCuriosity</b></a> or <a class=\"twitter-atreply pretty-link js-nav\" data-mentioned-user-id=\"407387443\" dir=\"ltr\" href=\"/NASAInSight\"><s>@</s><b>NASAInSight</b></a> for the next 2 weeks during Mars solar conjunction. Read more about why Mars missions go silent every 2 years: <a class=\"twitter-timeline-link\" data-expanded-url=\"https://www.wral.com/mars-spacecraft-go-quiet-during-solar-conjunction/18595551/\" dir=\"ltr\" href=\"https://t.co/OAOoqH9HCt\" rel=\"nofollow noopener\" target=\"_blank\" title=\"https://www.wral.com/mars-spacecraft-go-quiet-during-solar-conjunction/18595551/\"><span class=\"tco-ellipsis\"></span><span class=\"invisible\">https://www.</span><span class=\"js-display-url\">wral.com/mars-spacecraf</span><span class=\"invisible\">t-go-quiet-during-solar-conjunction/18595551/</span><span class=\"tco-ellipsis\"><span class=\"invisible\"> </span>…</span></a><a class=\"twitter-timeline-link u-hidden\" data-pre-embedded=\"true\" dir=\"ltr\" href=\"https://t.co/fWruE2v151\">pic.twitter.com/fWruE2v151</a></p>,\n",
       " <p class=\"TweetTextSize TweetTextSize--normal js-tweet-text tweet-text\" data-aria-label-part=\"0\" lang=\"en\">InSight sol 265 (2019-08-25) low -99.4ºC (-146.9ºF) high -26.3ºC (-15.3ºF)\n",
       " winds from the SSE at 5.3 m/s (12.0 mph) gusting to 16.1 m/s (35.9 mph)\n",
       " pressure at 7.50 hPa<a class=\"twitter-timeline-link u-hidden\" data-pre-embedded=\"true\" dir=\"ltr\" href=\"https://t.co/9YLawm67zS\">pic.twitter.com/9YLawm67zS</a></p>,\n",
       " <p class=\"TweetTextSize TweetTextSize--normal js-tweet-text tweet-text\" data-aria-label-part=\"0\" lang=\"en\">InSight sol 264 (2019-08-24) low -101.0ºC (-149.7ºF) high -26.7ºC (-16.1ºF)\n",
       " winds from the SW at 4.4 m/s (9.9 mph) gusting to 17.4 m/s (38.9 mph)\n",
       " pressure at 7.60 hPa<a class=\"twitter-timeline-link u-hidden\" data-pre-embedded=\"true\" dir=\"ltr\" href=\"https://t.co/xIytu1MnDG\">pic.twitter.com/xIytu1MnDG</a></p>,\n",
       " <p class=\"TweetTextSize TweetTextSize--normal js-tweet-text tweet-text\" data-aria-label-part=\"0\" lang=\"en\">InSight sol 263 (2019-08-23) low -100.9ºC (-149.6ºF) high -27.2ºC (-17.0ºF)\n",
       " winds from the SW at 4.1 m/s (9.2 mph) gusting to 18.3 m/s (40.9 mph)\n",
       " pressure at 7.60 hPa</p>,\n",
       " <p class=\"TweetTextSize TweetTextSize--normal js-tweet-text tweet-text\" data-aria-label-part=\"0\" lang=\"en\">InSight sol 262 (2019-08-22) low -101.3ºC (-150.3ºF) high -26.4ºC (-15.6ºF)\n",
       " winds from the SSE at 4.2 m/s (9.4 mph) gusting to 15.8 m/s (35.3 mph)\n",
       " pressure at 7.60 hPa</p>,\n",
       " <p class=\"TweetTextSize TweetTextSize--normal js-tweet-text tweet-text\" data-aria-label-part=\"0\" lang=\"en\">InSight sol 261 (2019-08-21) low -102.4ºC (-152.4ºF) high -26.6ºC (-15.8ºF)\n",
       " winds from the SSE at 4.9 m/s (11.0 mph) gusting to 16.0 m/s (35.8 mph)\n",
       " pressure at 7.70 hPa<a class=\"twitter-timeline-link u-hidden\" data-pre-embedded=\"true\" dir=\"ltr\" href=\"https://t.co/MhPPOHJg3m\">pic.twitter.com/MhPPOHJg3m</a></p>,\n",
       " <p class=\"TweetTextSize TweetTextSize--normal js-tweet-text tweet-text\" data-aria-label-part=\"0\" lang=\"en\">InSight sol 260 (2019-08-20) low -101.7ºC (-151.1ºF) high -28.6ºC (-19.5ºF)\n",
       " pressure at 7.60 hPa</p>,\n",
       " <p class=\"TweetTextSize TweetTextSize--normal js-tweet-text tweet-text\" data-aria-label-part=\"0\" lang=\"en\">InSight sol 259 (2019-08-19) low -101.0ºC (-149.8ºF) high -27.1ºC (-16.9ºF)\n",
       " winds from the SW at 4.3 m/s (9.6 mph) gusting to 17.6 m/s (39.4 mph)\n",
       " pressure at 7.60 hPa</p>,\n",
       " <p class=\"TweetTextSize TweetTextSize--normal js-tweet-text tweet-text\" data-aria-label-part=\"0\" lang=\"en\">InSight sol 258 (2019-08-18) low -100.0ºC (-148.1ºF) high -26.2ºC (-15.2ºF)\n",
       " winds from the SSE at 5.3 m/s (11.9 mph) gusting to 16.8 m/s (37.6 mph)\n",
       " pressure at 7.60 hPa<a class=\"twitter-timeline-link u-hidden\" data-pre-embedded=\"true\" dir=\"ltr\" href=\"https://t.co/5nCVjcsmlZ\">pic.twitter.com/5nCVjcsmlZ</a></p>,\n",
       " <p class=\"TweetTextSize TweetTextSize--normal js-tweet-text tweet-text\" data-aria-label-part=\"0\" lang=\"en\">InSight sol 257 (2019-08-17) low -100.2ºC (-148.4ºF) high -26.5ºC (-15.7ºF)\n",
       " winds from the SSE at 4.4 m/s (9.8 mph) gusting to 17.1 m/s (38.2 mph)\n",
       " pressure at 7.60 hPa<a class=\"twitter-timeline-link u-hidden\" data-pre-embedded=\"true\" dir=\"ltr\" href=\"https://t.co/hBQzJWARH0\">pic.twitter.com/hBQzJWARH0</a></p>,\n",
       " <p class=\"TweetTextSize TweetTextSize--normal js-tweet-text tweet-text\" data-aria-label-part=\"0\" lang=\"en\">InSight sol 256 (2019-08-16) low -101.7ºC (-151.1ºF) high -25.6ºC (-14.2ºF)\n",
       " winds from the SW at 4.2 m/s (9.4 mph) gusting to 17.9 m/s (40.0 mph)\n",
       " pressure at 7.60 hPa</p>,\n",
       " <p class=\"TweetTextSize TweetTextSize--normal js-tweet-text tweet-text\" data-aria-label-part=\"0\" lang=\"en\">InSight sol 255 (2019-08-15) low -100.1ºC (-148.1ºF) high -24.7ºC (-12.4ºF)\n",
       " winds from the SSW at 4.5 m/s (10.0 mph) gusting to 17.3 m/s (38.6 mph)\n",
       " pressure at 7.60 hPa</p>,\n",
       " <p class=\"TweetTextSize TweetTextSize--normal js-tweet-text tweet-text\" data-aria-label-part=\"0\" lang=\"en\">InSight sol 254 (2019-08-14) low -99.3ºC (-146.7ºF) high -25.9ºC (-14.6ºF)\n",
       " winds from the SE at 4.9 m/s (10.9 mph) gusting to 18.1 m/s (40.5 mph)\n",
       " pressure at 7.60 hPa</p>,\n",
       " <p class=\"TweetTextSize TweetTextSize--normal js-tweet-text tweet-text\" data-aria-label-part=\"4\" lang=\"en\">\"Dusty\" the Earthbound twin (triplet?) of <a class=\"twitter-atreply pretty-link js-nav\" data-mentioned-user-id=\"15165502\" dir=\"ltr\" href=\"/MarsRovers\"><s>@</s><b>MarsRovers</b></a>  Opportunity &amp; Spirit is heading for a new home at the National <a class=\"twitter-atreply pretty-link js-nav\" data-mentioned-user-id=\"14848513\" dir=\"ltr\" href=\"/airandspace\"><s>@</s><b>airandspace</b></a> Museum.<a class=\"twitter-timeline-link u-hidden\" data-expanded-url=\"https://twitter.com/AstroStaab/status/1162103864608169984\" dir=\"ltr\" href=\"https://t.co/58Uvs1nGY2\" rel=\"nofollow noopener\" target=\"_blank\" title=\"https://twitter.com/AstroStaab/status/1162103864608169984\"><span class=\"tco-ellipsis\"></span><span class=\"invisible\">https://</span><span class=\"js-display-url\">twitter.com/AstroStaab/sta</span><span class=\"invisible\">tus/1162103864608169984</span><span class=\"tco-ellipsis\"><span class=\"invisible\"> </span>…</span></a></p>,\n",
       " <p class=\"TweetTextSize TweetTextSize--normal js-tweet-text tweet-text\" data-aria-label-part=\"0\" lang=\"en\">InSight sol 253 (2019-08-13) low -100.0ºC (-148.1ºF) high -25.5ºC (-13.9ºF)\n",
       " winds from the SSE at 4.6 m/s (10.3 mph) gusting to 16.4 m/s (36.6 mph)\n",
       " pressure at 7.60 hPa<a class=\"twitter-timeline-link u-hidden\" data-pre-embedded=\"true\" dir=\"ltr\" href=\"https://t.co/OnwaHAaYRH\">pic.twitter.com/OnwaHAaYRH</a></p>,\n",
       " <p class=\"TweetTextSize TweetTextSize--normal js-tweet-text tweet-text\" data-aria-label-part=\"0\" lang=\"en\">InSight sol 252 (2019-08-12) low -100.8ºC (-149.4ºF) high -26.0ºC (-14.8ºF)\n",
       " winds from the SSW at 4.4 m/s (9.8 mph) gusting to 18.3 m/s (40.9 mph)\n",
       " pressure at 7.60 hPa<a class=\"twitter-timeline-link u-hidden\" data-pre-embedded=\"true\" dir=\"ltr\" href=\"https://t.co/WY3JQBXVuU\">pic.twitter.com/WY3JQBXVuU</a></p>]"
      ]
     },
     "execution_count": 48,
     "metadata": {},
     "output_type": "execute_result"
    }
   ],
   "source": [
    "# Find weather tweets with BeautifulSoup\n",
    "mars_weather_tweets = twitter_soup.find_all('p', class_='TweetTextSize')\n",
    "mars_weather_tweets"
   ]
  },
  {
   "cell_type": "code",
   "execution_count": 90,
   "metadata": {},
   "outputs": [
    {
     "name": "stdout",
     "output_type": "stream",
     "text": [
      "InSight sol 252 (2019-08-12) low -100.8ºC (-149.4ºF) high -26.0ºC (-14.8ºF)\n",
      "winds from the SSW at 4.4 m/s (9.8 mph) gusting to 18.3 m/s (40.9 mph)\n",
      "pressure at 7.60 hPapic.twitter.com/WY3JQBXVuU\n",
      "InSight sol 252 (2019-08-12) low -100.8ºC (-149.4ºF) high -26.0ºC (-14.8ºF)\n",
      "winds from the SSW at 4.4 m/s (9.8 mph) gusting to 18.3 m/s (40.9 mph)\n",
      "pressure at 7.60 hPapic.twitter.com/WY3JQBXVuU\n",
      "InSight sol 252 (2019-08-12) low -100.8ºC (-149.4ºF) high -26.0ºC (-14.8ºF)\n",
      "winds from the SSW at 4.4 m/s (9.8 mph) gusting to 18.3 m/s (40.9 mph)\n",
      "pressure at 7.60 hPapic.twitter.com/WY3JQBXVuU\n",
      "InSight sol 252 (2019-08-12) low -100.8ºC (-149.4ºF) high -26.0ºC (-14.8ºF)\n",
      "winds from the SSW at 4.4 m/s (9.8 mph) gusting to 18.3 m/s (40.9 mph)\n",
      "pressure at 7.60 hPapic.twitter.com/WY3JQBXVuU\n",
      "InSight sol 252 (2019-08-12) low -100.8ºC (-149.4ºF) high -26.0ºC (-14.8ºF)\n",
      "winds from the SSW at 4.4 m/s (9.8 mph) gusting to 18.3 m/s (40.9 mph)\n",
      "pressure at 7.60 hPapic.twitter.com/WY3JQBXVuU\n",
      "InSight sol 252 (2019-08-12) low -100.8ºC (-149.4ºF) high -26.0ºC (-14.8ºF)\n",
      "winds from the SSW at 4.4 m/s (9.8 mph) gusting to 18.3 m/s (40.9 mph)\n",
      "pressure at 7.60 hPapic.twitter.com/WY3JQBXVuU\n",
      "InSight sol 252 (2019-08-12) low -100.8ºC (-149.4ºF) high -26.0ºC (-14.8ºF)\n",
      "winds from the SSW at 4.4 m/s (9.8 mph) gusting to 18.3 m/s (40.9 mph)\n",
      "pressure at 7.60 hPapic.twitter.com/WY3JQBXVuU\n",
      "InSight sol 252 (2019-08-12) low -100.8ºC (-149.4ºF) high -26.0ºC (-14.8ºF)\n",
      "winds from the SSW at 4.4 m/s (9.8 mph) gusting to 18.3 m/s (40.9 mph)\n",
      "pressure at 7.60 hPapic.twitter.com/WY3JQBXVuU\n",
      "InSight sol 252 (2019-08-12) low -100.8ºC (-149.4ºF) high -26.0ºC (-14.8ºF)\n",
      "winds from the SSW at 4.4 m/s (9.8 mph) gusting to 18.3 m/s (40.9 mph)\n",
      "pressure at 7.60 hPapic.twitter.com/WY3JQBXVuU\n",
      "InSight sol 252 (2019-08-12) low -100.8ºC (-149.4ºF) high -26.0ºC (-14.8ºF)\n",
      "winds from the SSW at 4.4 m/s (9.8 mph) gusting to 18.3 m/s (40.9 mph)\n",
      "pressure at 7.60 hPapic.twitter.com/WY3JQBXVuU\n",
      "InSight sol 252 (2019-08-12) low -100.8ºC (-149.4ºF) high -26.0ºC (-14.8ºF)\n",
      "winds from the SSW at 4.4 m/s (9.8 mph) gusting to 18.3 m/s (40.9 mph)\n",
      "pressure at 7.60 hPapic.twitter.com/WY3JQBXVuU\n",
      "InSight sol 252 (2019-08-12) low -100.8ºC (-149.4ºF) high -26.0ºC (-14.8ºF)\n",
      "winds from the SSW at 4.4 m/s (9.8 mph) gusting to 18.3 m/s (40.9 mph)\n",
      "pressure at 7.60 hPapic.twitter.com/WY3JQBXVuU\n",
      "InSight sol 252 (2019-08-12) low -100.8ºC (-149.4ºF) high -26.0ºC (-14.8ºF)\n",
      "winds from the SSW at 4.4 m/s (9.8 mph) gusting to 18.3 m/s (40.9 mph)\n",
      "pressure at 7.60 hPapic.twitter.com/WY3JQBXVuU\n",
      "InSight sol 252 (2019-08-12) low -100.8ºC (-149.4ºF) high -26.0ºC (-14.8ºF)\n",
      "winds from the SSW at 4.4 m/s (9.8 mph) gusting to 18.3 m/s (40.9 mph)\n",
      "pressure at 7.60 hPapic.twitter.com/WY3JQBXVuU\n",
      "InSight sol 252 (2019-08-12) low -100.8ºC (-149.4ºF) high -26.0ºC (-14.8ºF)\n",
      "winds from the SSW at 4.4 m/s (9.8 mph) gusting to 18.3 m/s (40.9 mph)\n",
      "pressure at 7.60 hPapic.twitter.com/WY3JQBXVuU\n",
      "InSight sol 252 (2019-08-12) low -100.8ºC (-149.4ºF) high -26.0ºC (-14.8ºF)\n",
      "winds from the SSW at 4.4 m/s (9.8 mph) gusting to 18.3 m/s (40.9 mph)\n",
      "pressure at 7.60 hPapic.twitter.com/WY3JQBXVuU\n",
      "InSight sol 252 (2019-08-12) low -100.8ºC (-149.4ºF) high -26.0ºC (-14.8ºF)\n",
      "winds from the SSW at 4.4 m/s (9.8 mph) gusting to 18.3 m/s (40.9 mph)\n",
      "pressure at 7.60 hPapic.twitter.com/WY3JQBXVuU\n",
      "InSight sol 252 (2019-08-12) low -100.8ºC (-149.4ºF) high -26.0ºC (-14.8ºF)\n",
      "winds from the SSW at 4.4 m/s (9.8 mph) gusting to 18.3 m/s (40.9 mph)\n",
      "pressure at 7.60 hPapic.twitter.com/WY3JQBXVuU\n",
      "InSight sol 252 (2019-08-12) low -100.8ºC (-149.4ºF) high -26.0ºC (-14.8ºF)\n",
      "winds from the SSW at 4.4 m/s (9.8 mph) gusting to 18.3 m/s (40.9 mph)\n",
      "pressure at 7.60 hPapic.twitter.com/WY3JQBXVuU\n",
      "InSight sol 252 (2019-08-12) low -100.8ºC (-149.4ºF) high -26.0ºC (-14.8ºF)\n",
      "winds from the SSW at 4.4 m/s (9.8 mph) gusting to 18.3 m/s (40.9 mph)\n",
      "pressure at 7.60 hPapic.twitter.com/WY3JQBXVuU\n"
     ]
    }
   ],
   "source": [
    "mars_weathers = tweet.text\n",
    "for tweet in mars_weather_tweets:\n",
    "    if tweet.text.startswith('Sol'):\n",
    "        mars_weathers = tweet.text\n",
    "    print(mars_weathers)"
   ]
  },
  {
   "cell_type": "code",
   "execution_count": 92,
   "metadata": {},
   "outputs": [],
   "source": [
    "# Url to Mars facts website\n",
    "facts_url = 'https://space-facts.com/mars/'"
   ]
  },
  {
   "cell_type": "code",
   "execution_count": 93,
   "metadata": {},
   "outputs": [],
   "source": [
    "fact_table = pd.read_html(fact_url)\n",
    "mars_fact_table = fact_table[0]"
   ]
  },
  {
   "cell_type": "code",
   "execution_count": 94,
   "metadata": {},
   "outputs": [],
   "source": [
    "mars_fact_table_html = mars_fact_table.to_html(header=False, index=False)"
   ]
  },
  {
   "cell_type": "code",
   "execution_count": 95,
   "metadata": {},
   "outputs": [],
   "source": [
    "mars_fact_table_html = mars_fact_table_html.replace('\\n', '')"
   ]
  },
  {
   "cell_type": "code",
   "execution_count": 100,
   "metadata": {},
   "outputs": [
    {
     "data": {
      "text/plain": [
       "'<table border=\"1\" class=\"dataframe\">  <tbody>    <tr>      <td>Diameter:</td>      <td>6,779 km</td>      <td>12,742 km</td>    </tr>    <tr>      <td>Mass:</td>      <td>6.39 × 10^23 kg</td>      <td>5.97 × 10^24 kg</td>    </tr>    <tr>      <td>Moons:</td>      <td>2</td>      <td>1</td>    </tr>    <tr>      <td>Distance from Sun:</td>      <td>227,943,824 km</td>      <td>149,598,262 km</td>    </tr>    <tr>      <td>Length of Year:</td>      <td>687 Earth days</td>      <td>365.24 days</td>    </tr>    <tr>      <td>Temperature:</td>      <td>-153 to 20 °C</td>      <td>-88 to 58°C</td>    </tr>  </tbody></table>'"
      ]
     },
     "execution_count": 100,
     "metadata": {},
     "output_type": "execute_result"
    }
   ],
   "source": [
    "mars_fact_table_html"
   ]
  },
  {
   "cell_type": "code",
   "execution_count": 96,
   "metadata": {},
   "outputs": [],
   "source": [
    "## Mars Hemispheres\n",
    "hem_url = \"https://astrogeology.usgs.gov/search/results?q=hemisphere+enhanced&k1=target&v1=Mars\"\n",
    "browser.visit(hem_url)"
   ]
  },
  {
   "cell_type": "code",
   "execution_count": 97,
   "metadata": {},
   "outputs": [],
   "source": [
    "urls = [(a.text, a['href']) for a in browser\n",
    "         .find_by_css('div[class=\"description\"] a')]"
   ]
  },
  {
   "cell_type": "code",
   "execution_count": 98,
   "metadata": {},
   "outputs": [],
   "source": [
    "hemisphere_image_urls = []"
   ]
  },
  {
   "cell_type": "code",
   "execution_count": 99,
   "metadata": {},
   "outputs": [],
   "source": [
    "for title,url in urls:\n",
    "    product_dict = {}\n",
    "    product_dict['title'] = title\n",
    "    browser.visit(url)\n",
    "    img_url = browser.find_by_css('img[class=\"wide-image\"]')['src']\n",
    "    product_dict['img_url'] = img_url\n",
    "    hemisphere_image_urls.append(product_dict)"
   ]
  },
  {
   "cell_type": "code",
   "execution_count": 101,
   "metadata": {},
   "outputs": [
    {
     "data": {
      "text/plain": [
       "[{'title': 'Cerberus Hemisphere Enhanced',\n",
       "  'img_url': 'https://astrogeology.usgs.gov/cache/images/cfa62af2557222a02478f1fcd781d445_cerberus_enhanced.tif_full.jpg'},\n",
       " {'title': 'Schiaparelli Hemisphere Enhanced',\n",
       "  'img_url': 'https://astrogeology.usgs.gov/cache/images/3cdd1cbf5e0813bba925c9030d13b62e_schiaparelli_enhanced.tif_full.jpg'},\n",
       " {'title': 'Syrtis Major Hemisphere Enhanced',\n",
       "  'img_url': 'https://astrogeology.usgs.gov/cache/images/ae209b4e408bb6c3e67b6af38168cf28_syrtis_major_enhanced.tif_full.jpg'},\n",
       " {'title': 'Valles Marineris Hemisphere Enhanced',\n",
       "  'img_url': 'https://astrogeology.usgs.gov/cache/images/7cf2da4bf549ed01c17f206327be4db7_valles_marineris_enhanced.tif_full.jpg'}]"
      ]
     },
     "execution_count": 101,
     "metadata": {},
     "output_type": "execute_result"
    }
   ],
   "source": [
    "hemisphere_image_urls"
   ]
  },
  {
   "cell_type": "code",
   "execution_count": null,
   "metadata": {},
   "outputs": [],
   "source": []
  },
  {
   "cell_type": "code",
   "execution_count": null,
   "metadata": {},
   "outputs": [
    {
     "name": "stdout",
     "output_type": "stream",
     "text": [
      "[NbConvertApp] Converting notebook mission_to_mars.ipynb to script\n"
     ]
    }
   ],
   "source": [
    "# Convert this jupyter notebook file to a python script called 'scrape_mars.py'\n",
    "! jupyter nbconvert --to script --template basic mission_to_mars.ipynb --output scrape_mars"
   ]
  },
  {
   "cell_type": "code",
   "execution_count": null,
   "metadata": {},
   "outputs": [],
   "source": []
  }
 ],
 "metadata": {
  "kernelspec": {
   "display_name": "Python 3",
   "language": "python",
   "name": "python3"
  },
  "language_info": {
   "codemirror_mode": {
    "name": "ipython",
    "version": 3
   },
   "file_extension": ".py",
   "mimetype": "text/x-python",
   "name": "python",
   "nbconvert_exporter": "python",
   "pygments_lexer": "ipython3",
   "version": "3.7.3"
  }
 },
 "nbformat": 4,
 "nbformat_minor": 2
}
